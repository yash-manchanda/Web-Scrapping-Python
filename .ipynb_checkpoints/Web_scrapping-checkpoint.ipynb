{
 "cells": [
  {
   "cell_type": "code",
   "execution_count": null,
   "metadata": {},
   "outputs": [],
   "source": [
    "import requests \n",
    "import bs4\n",
    "\n",
    "\n",
    "page = requests.get(\"https://www.flipkart.com/search?q=iphone+7+plus&as=on&as-show=on&otracker=AS_Query_OrganicAutoSuggest_1_6_na_na_na&otracker1=AS_Query_OrganicAutoSuggest_1_6_na_na_na&as-pos=1&as-type=RECENT&suggestionId=iphone+7+plus&requestId=dba699ff-6fc2-4f40-94d2-69ca9f3f3990&as-backfill=on\")\n",
    "type(page)"
   ]
  },
  {
   "cell_type": "code",
   "execution_count": null,
   "metadata": {},
   "outputs": [],
   "source": [
    "page.status_code"
   ]
  },
  {
   "cell_type": "code",
   "execution_count": null,
   "metadata": {},
   "outputs": [],
   "source": [
    "#page.text  all the raw text will be printed"
   ]
  },
  {
   "cell_type": "code",
   "execution_count": null,
   "metadata": {},
   "outputs": [],
   "source": [
    "soup = bs4.BeautifulSoup(page.text,'html.parser')"
   ]
  },
  {
   "cell_type": "code",
   "execution_count": null,
   "metadata": {},
   "outputs": [],
   "source": [
    "soup"
   ]
  },
  {
   "cell_type": "code",
   "execution_count": null,
   "metadata": {},
   "outputs": [],
   "source": [
    "txt = soup.select('title')"
   ]
  },
  {
   "cell_type": "code",
   "execution_count": null,
   "metadata": {},
   "outputs": [],
   "source": [
    "type(txt)"
   ]
  },
  {
   "cell_type": "code",
   "execution_count": null,
   "metadata": {},
   "outputs": [],
   "source": [
    "txt[0].get_text()"
   ]
  },
  {
   "cell_type": "code",
   "execution_count": null,
   "metadata": {},
   "outputs": [],
   "source": [
    "\n",
    "# from bs4 import BeautifulSoup as soup\n",
    "# from urllib.request import urlopen as uReq\n",
    "\n",
    "# my_url = \"https://www.flipkart.com/search?q=iphone+7+plus&as=on&as-show=on&otracker=AS_Query_OrganicAutoSuggest_1_6_na_na_na&otracker1=AS_Query_OrganicAutoSuggest_1_6_na_na_na&as-pos=1&as-type=RECENT&suggestionId=iphone+7+plus&requestId=dba699ff-6fc2-4f40-94d2-69ca9f3f3990&as-backfill=on\";\n",
    "\n",
    "# uclient = uReq(my_url)\n",
    "\n",
    "# p_html = uclient.read()\n",
    "\n",
    "# #p_html\n",
    "\n",
    "# uclient.close()\n",
    "\n",
    "# page_soup = soup(p_html, 'html.parser')\n",
    "\n",
    "# type(page_soup)"
   ]
  },
  {
   "cell_type": "code",
   "execution_count": null,
   "metadata": {},
   "outputs": [],
   "source": [
    "# page_soup"
   ]
  },
  {
   "cell_type": "code",
   "execution_count": null,
   "metadata": {},
   "outputs": [],
   "source": [
    "container = soup.find_all(\"div\",{\"class\": \"_1UoZlX\"})"
   ]
  },
  {
   "cell_type": "code",
   "execution_count": null,
   "metadata": {},
   "outputs": [],
   "source": [
    "print(len(container))"
   ]
  },
  {
   "cell_type": "code",
   "execution_count": null,
   "metadata": {},
   "outputs": [],
   "source": [
    "print(bs4.BeautifulSoup.prettify(container[0])) #represent html tags beautfully and ease to read form"
   ]
  },
  {
   "cell_type": "code",
   "execution_count": null,
   "metadata": {},
   "outputs": [],
   "source": [
    "# for i in range(len(container)):\n",
    "#     container[i]\n",
    "#     print(container[i].div.img[\"alt\"])\n",
    "# same class alt should print but not printing with loop"
   ]
  },
  {
   "cell_type": "code",
   "execution_count": null,
   "metadata": {},
   "outputs": [],
   "source": [
    "contain = container[0]"
   ]
  },
  {
   "cell_type": "code",
   "execution_count": null,
   "metadata": {},
   "outputs": [],
   "source": [
    "print(containi.div.img[\"alt\"])"
   ]
  },
  {
   "cell_type": "code",
   "execution_count": null,
   "metadata": {},
   "outputs": [],
   "source": [
    "price = soup.find_all(\"div\",{\"class\": \"col col-5-12 _2o7WAb\"})"
   ]
  },
  {
   "cell_type": "code",
   "execution_count": null,
   "metadata": {},
   "outputs": [],
   "source": [
    "for i in range(len(price)):\n",
    "    print(price[i].text)\n",
    "len(price)"
   ]
  },
  {
   "cell_type": "code",
   "execution_count": null,
   "metadata": {},
   "outputs": [],
   "source": [
    "print(price[0].text.strip())"
   ]
  },
  {
   "cell_type": "code",
   "execution_count": null,
   "metadata": {},
   "outputs": [],
   "source": [
    "ratings = soup.find_all(\"div\",{\"class\":\"niH0FQ\" })"
   ]
  },
  {
   "cell_type": "code",
   "execution_count": null,
   "metadata": {},
   "outputs": [],
   "source": [
    "ratings[0].text"
   ]
  },
  {
   "cell_type": "code",
   "execution_count": null,
   "metadata": {},
   "outputs": [],
   "source": [
    "filename = \"product.csv\""
   ]
  },
  {
   "cell_type": "code",
   "execution_count": null,
   "metadata": {},
   "outputs": [],
   "source": [
    "f = open(filename,\"w\")"
   ]
  },
  {
   "cell_type": "code",
   "execution_count": null,
   "metadata": {},
   "outputs": [],
   "source": [
    "header = \"Product_Name, Prices, Ratings\\n\""
   ]
  },
  {
   "cell_type": "code",
   "execution_count": null,
   "metadata": {},
   "outputs": [],
   "source": [
    "f.write(header)"
   ]
  },
  {
   "cell_type": "code",
   "execution_count": null,
   "metadata": {},
   "outputs": [],
   "source": [
    "for contain in container:\n",
    "    \n",
    "    product_name = contain.div.img[\"alt\"]\n",
    "    \n",
    "    price_container = soup.find_all(\"div\",{\"class\": \"col col-5-12 _2o7WAb\"})\n",
    "    price = price_container[0].text.strip()\n",
    "    \n",
    "    Ratings_container = soup.find_all(\"div\",{\"class\":\"niH0FQ\" })\n",
    "    ratings = Ratings_container[0].text\n",
    "    \n",
    "    print(\"Product_name:\" + product_name)\n",
    "    print(\"Prices:\" + price)\n",
    "    print(\"Ratings:\" + ratings)\n",
    "    \n",
    "    f.write(product_name+\" , \"+price+\" , \"+ratings+\" \\n\")"
   ]
  },
  {
   "cell_type": "code",
   "execution_count": null,
   "metadata": {},
   "outputs": [],
   "source": [
    "print(\"Product_name:\" + product_name)\n",
    "print(\"Prices:\" + price)\n",
    "print(\"Ratings:\" + ratings)"
   ]
  }
 ],
 "metadata": {
  "kernelspec": {
   "display_name": "Python 3",
   "language": "python",
   "name": "python3"
  },
  "language_info": {
   "codemirror_mode": {
    "name": "ipython",
    "version": 3
   },
   "file_extension": ".py",
   "mimetype": "text/x-python",
   "name": "python",
   "nbconvert_exporter": "python",
   "pygments_lexer": "ipython3",
   "version": "3.7.4"
  }
 },
 "nbformat": 4,
 "nbformat_minor": 2
}
